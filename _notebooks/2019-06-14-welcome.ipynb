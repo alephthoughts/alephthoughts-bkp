{
 "cells": [
  {
   "cell_type": "markdown",
   "metadata": {},
   "source": [
    "# What's in the name?\n",
    "> Why is this blog called alephthoughts?\n",
    "\n",
    "- toc: true \n",
    "- badges: false\n",
    "- comments: true\n",
    "- categories: [welcome]\n",
    "- image: images/shakespeare.jpg"
   ]
  },
  {
   "cell_type": "markdown",
   "metadata": {},
   "source": [
    "> \"What's in a name? that which we call a rose\n",
    "> By any other name would smell as sweet\""
   ]
  },
  {
   "cell_type": "markdown",
   "metadata": {},
   "source": [
    "Welcome to my blog!\n",
    "\n",
    "This is the medium I will use to share my thoughts on many things that I find interesting. I have a buzzing mind which makes it hard for me to focus on one thing at a time. So I decided to name this blog after something that describes the state of my mind. How many thoughts at once do I have in my head?, I asked myself. My mind drifted to another question, What is the biggest number?\n",
    "It turns out the largest number is a **_[geoglyph](https://en.wikipedia.org/wiki/Geoglyph)_**, \"40\" made of trees in Russia covering an area of 12000 square meters. 40Thoughts didn't sound cool enough to me, so my search continued. A **_[GoogolThoughts](https://en.wikipedia.org/wiki/Googol)_** or **_[GoogolplexThoughts](https://en.wikipedia.org/wiki/Googolplex)_** are big cardinal numbers but I wanted something bigger. So I named this blog after the smallest infinity which is denoted by the first Hebrew letter **[\"Aleph\"](https://simple.wikipedia.org/wiki/Aleph_null)**. \n",
    "\n",
    "This place is going to be about stuff I find cool and numbers top that list. Another thing that is really cool is programming. I really love python for its easy of use and amazing community. Swift is another language that I find really interesting. I love reading about everything related to science and can spend hours discussing philosophy and politics. The common theme around all these things is my vision for a better world. I am by no means a good writer but still I would love to put my thoughts on things out there and love to read yours. So hope so see you on my blog.\n",
    "\n",
    "Cheers!!"
   ]
  }
 ],
 "metadata": {
  "kernelspec": {
   "display_name": "Python 3 (ipykernel)",
   "language": "python",
   "name": "python3"
  },
  "language_info": {
   "codemirror_mode": {
    "name": "ipython",
    "version": 3
   },
   "file_extension": ".py",
   "mimetype": "text/x-python",
   "name": "python",
   "nbconvert_exporter": "python",
   "pygments_lexer": "ipython3",
   "version": "3.9.7"
  }
 },
 "nbformat": 4,
 "nbformat_minor": 4
}
