{
 "cells": [
  {
   "cell_type": "markdown",
   "metadata": {},
   "source": [
    "# Publication Ready Jupyter Notebooks\n",
    "> From notebooks to documents.\n",
    "\n",
    "\n",
    "- toc: true \n",
    "- badges: true\n",
    "- comments: true\n",
    "- categories: [jupyter]\n",
    "- image: images/jupyter.png"
   ]
  },
  {
   "cell_type": "markdown",
   "metadata": {},
   "source": [
    "Documenting your work is an integral part of your development but if you are someone like me and you have to share your work with different set of technical and non-technical audience, you probably go an extra mile to create separate versions of the same results, one with code for your peers, and one for the business stakeholders who may find the code scary or distracting to say the least. [The Jupyter Notebook](https://jupyter.org/) makes my life so much easier for the data analysis related work. Although jupyter notebook supports a variety of programming languages like [Julia](https://julialang.org/), [Python](python.org) and [R](https://www.r-project.org/) for live code and visualisations, alongwith [Markdown](https://en.wikipedia.org/wiki/Markdown), [HTML](https://en.wikipedia.org/wiki/HTML) and others for narrative text, in this post, we will see an example with python code."
   ]
  },
  {
   "cell_type": "markdown",
   "metadata": {},
   "source": [
    "### Installing Required Packages\n",
    "Assuming you already have jupyter and python installed on your systems, you need to install the following packages additionally:\n",
    "\n",
    "#### [nbconvert](https://github.com/jupyter/nbconvert)\n",
    "The nbconvert tools utilises [Jinja](http://jinja.pocoo.org/) templates to convert your jupyter notebooks to various document formats such as HTML, LaTeX, PDF, Reveal JS, Markdown, ReStructured Text (rst) and executable script.\n",
    "You can install nbconvert using either of the commands depending on your python package manager:"
   ]
  },
  {
   "cell_type": "code",
   "execution_count": null,
   "metadata": {},
   "outputs": [],
   "source": [
    "! pip install nbconvert\n",
    "! conda install -c anaconda nbconvert"
   ]
  },
  {
   "cell_type": "markdown",
   "metadata": {},
   "source": [
    "To convert the notebook to the desired output format use the following command structure:"
   ]
  },
  {
   "cell_type": "code",
   "execution_count": null,
   "metadata": {},
   "outputs": [],
   "source": [
    "$ jupyter nbconvert --to <output format> <input notebook>"
   ]
  },
  {
   "cell_type": "markdown",
   "metadata": {},
   "source": [
    "#### [Hide_Code](https://github.com/kirbs-/hide_code)\n",
    "Hide_Code is an extension for your jupyter notebook, which allows you to selectively hide code, prompts and outputs in the jupyter notebook. It also enables these notebooks to be exported to HTML, LaTeX and PDF. Once hide_code is installed on your system, you can enable it by clicking View -> Cell Toolbar -> Hide Code on your jupyter notebook menu.\n",
    "![hide code demo](my_icons/hide_code.gif)\n",
    "\n",
    "You can install hide_code using following commands:"
   ]
  },
  {
   "cell_type": "code",
   "execution_count": null,
   "metadata": {},
   "outputs": [],
   "source": [
    "!pip install hide_code\n",
    "!jupyter nbextension install --py hide_code\n",
    "!jupyter nbextension enable --py hide_code\n",
    "!jupyter serverextension enable --py hide_code"
   ]
  },
  {
   "cell_type": "markdown",
   "metadata": {},
   "source": [
    "You can export your notebooks to desired format using the following commands:<br>\n",
    "To HTML <br>"
   ]
  },
  {
   "cell_type": "code",
   "execution_count": null,
   "metadata": {},
   "outputs": [],
   "source": [
    "!jupyter nbconvert --to hide_code_html notebook_to_convert.ipynb"
   ]
  },
  {
   "cell_type": "markdown",
   "metadata": {},
   "source": [
    "To PDF"
   ]
  },
  {
   "cell_type": "code",
   "execution_count": null,
   "metadata": {},
   "outputs": [],
   "source": [
    "!jupyter nbconvert --to hide_code_pdf notebook_to_convert.ipynb"
   ]
  },
  {
   "cell_type": "markdown",
   "metadata": {},
   "source": [
    "To LaTeX"
   ]
  },
  {
   "cell_type": "code",
   "execution_count": null,
   "metadata": {},
   "outputs": [],
   "source": [
    "!jupyter nbconvert --to hide_code_latexpdf notebook_to_convert.ipynb"
   ]
  },
  {
   "cell_type": "markdown",
   "metadata": {},
   "source": [
    "#### [Tabulate](https://bitbucket.org/astanin/python-tabulate/src/master/)\n",
    "Tabulate is a python package used for pretty printing tabular data in python.\n",
    "You can install tabulate using either of the following commands:"
   ]
  },
  {
   "cell_type": "code",
   "execution_count": null,
   "metadata": {},
   "outputs": [],
   "source": [
    "!pip install tabulate\n",
    "!conda install -c conda-forge tabulate"
   ]
  },
  {
   "cell_type": "markdown",
   "metadata": {},
   "source": [
    "### Creating the notebook\n",
    "I have created a [demo notebook](https://github.com/alephthoughts/JupyterPublishDemo) on github which you can fork or download or work with your own example. \n",
    "\n",
    "#### Writing Narrative Text\n",
    "In order to write the narrative text in Markdown or HTML, click on \"Cell -> Cell Type -> Markdown\" on jupyter menu or press \"Esc + m\" on your keyboard. This [tutorial](https://www.markdowntutorial.com/) gives a good introduction on markdown.\n",
    "\n",
    "#### Enable Hide_Code\n",
    "Enable Hide_Code which gives you options to \"Hide Prompt\", \"Hide Code\" and \"Hide Cell\" on the top right corner of each cell in the notebook. Using the following command convert your notebook to LaTeX format."
   ]
  },
  {
   "cell_type": "code",
   "execution_count": null,
   "metadata": {},
   "outputs": [],
   "source": [
    "!jupyter nbconvert --to hide_code_latex notebook_to_convert.ipynb"
   ]
  },
  {
   "cell_type": "markdown",
   "metadata": {},
   "source": [
    "#### Adding colors to your LaTeX file\n",
    "By default the export is black and white.You can add color to your latex element by using the following command:<br>\n",
    "`{\\color{<color name>}<element text>}`<br>\n",
    "\n",
    "You can color entire sections using the following global definitions: <br>\n",
    "`\\usepackage{sectsty}`\n",
    "`\\chapterfont{\\color{brown}}`\n",
    "`\\sectionfont{\\color{brown}}`\n",
    "`\\subsectionfont{\\color{brown}}`\n",
    "`\\subsubsectionfont{\\color{teal}}`\n",
    "`\\date{\\color{brown}June 10, 2019}`\n",
    "\n",
    "You can deep dive into [LaTeX](https://www.latex-tutorial.com/tutorials/?ref=hackr.io) if you want to customize it completely. <br>\n",
    "This brings us to the end of this post. Hope you will find it useful!"
   ]
  }
 ],
 "metadata": {
  "kernelspec": {
   "display_name": "Python 3 (ipykernel)",
   "language": "python",
   "name": "python3"
  },
  "language_info": {
   "codemirror_mode": {
    "name": "ipython",
    "version": 3
   },
   "file_extension": ".py",
   "mimetype": "text/x-python",
   "name": "python",
   "nbconvert_exporter": "python",
   "pygments_lexer": "ipython3",
   "version": "3.9.7"
  }
 },
 "nbformat": 4,
 "nbformat_minor": 4
}
