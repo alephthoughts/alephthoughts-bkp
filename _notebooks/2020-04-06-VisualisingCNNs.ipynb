{
 "cells": [
  {
   "cell_type": "markdown",
   "metadata": {},
   "source": [
    "# \"Paper Reading - Visualizing and Understanding Convolutional Networks\"\n",
    "> What do CNNs see?\n",
    "\n",
    "- toc: false \n",
    "- badges: false\n",
    "- comments: true\n",
    "- categories: [computer-vision]\n",
    "- image: images/mathew.jpg\n",
    "- hide: false"
   ]
  },
  {
   "cell_type": "markdown",
   "metadata": {},
   "source": [
    "The first paper I chose to write about is one of the most famous papers in the Deep Learning community titled, [Visualizing and understanding convolutional networks](https://arxiv.org/abs/1311.2901) by [M. Zeiler](https://www.matthewzeiler.com/), [R. Fergus](https://cs.nyu.edu/~fergus/pmwiki/pmwiki.php). Appeared in 2013 this paper remains popular as it introduced some of the most fundamental ideas to aid our understanding of convolutional neural networks and transfer learning.\n",
    "Convolutional neural networks have performed exceedingly well over time on image related tasks. The main objective of this paper is enquire about :-\n",
    "\n",
    "1. Why convolutional networks perform so well on image classification tasks?\n",
    "2. How the convolutional model architectures can be improved?\n",
    "\n",
    "The most important ideas introduced in this paper are the following:\n",
    "\n",
    "1. Deconvnets and Convnet Visualization\n",
    "2. Convnet Explainability\n",
    "3. Transfer Learning\n",
    "\n",
    "Before looking into these ideas in a little detail, let's first discuss the convnet model architecture studied and used in this paper. The standard operation of a convnet is to map colored two dimensional images to a probability vector over different classes i.e. it takes an image as input and returns a vector of probabilities(adding to 1) of the image belonging to each of the classes. Each layer of the convenet consists of:\n",
    "\n",
    "* [convolution](https://www.superdatascience.com/blogs/convolutional-neural-networks-cnn-step-1-convolution-operation) of the previous layer output (for the first layer it's the input image) with a set of filters (parameters)\n",
    "* rectified linear units [relu](https://www.kaggle.com/dansbecker/rectified-linear-units-relu-in-deep-learning), which is essentially replacing all negative activations with 0\n",
    "* [max pooling](https://computersciencewiki.org/index.php/Max-pooling_/_Pooling) \n",
    "* normalizing the activations by [local response normalization](https://towardsdatascience.com/difference-between-local-response-normalization-and-batch-normalization-272308c034ac)\n",
    "\n",
    "The top few layers of the convnet are the fully-connected layers follwed by a [softmax classifier](https://www.pyimagesearch.com/2016/09/12/softmax-classifiers-explained/) at the end.\n",
    "\n",
    "Now let's look at the important ideas discussed in this paper:\n",
    "\n",
    "## Visualizing convolutional networks with Deconvnet\n",
    "\n",
    "The process of visualizing a convnet involves identifying the cause of each activation by mapping the activations back to input pixel space with the aid of a [Deconvolutional Network](https://matthewzeiler.com/mattzeiler/adaptivedeconvolutional.pdf) (deconvnet). A deconvnet can be thought of as a convnet but in reverse. It is attached to each of the convnet layers in order to probe the activations. In order to examine a given activation, all other activations in the conenet layer are set to zero and the feature maps are passed to the attached deconvnet layer. Then following operations are performed repeatedly until input pixel space is reconstructed:\n",
    "\n",
    "* **Unpooling** : Since max pooling operation is non-invertible, an approximate inverse is obtained by restoring the activations at the locations of maximum activation selection.\n",
    "* **Rectification** : The reconstructed signals are passed through a relu non-linearity.\n",
    "* **Filtering** : In the deconvnet each convnet filter is transposed (flipped vertically and horizontally) and applied to the rectified activations.\n",
    "![Deconvnet attached to a convnet ><](my_icons/deconvnet.jpeg)\n",
    "\n",
    "### Convnet Visualization\n",
    "\n",
    "The aforementioned approach is used to visualize the top 9 strongest activations for a given feature map. These activations are projected to pixel space and shown alongside corresponding image patches. Let's see each layer one by one:\n",
    "\n",
    "#### Layer 2:\n",
    "\n",
    "Layer 2 corresponds to corners and other edge/color conjuctions.\n",
    "![](my_icons/Layer2.png \"Layer 2\")\n",
    "\n",
    "#### Layer 3:\n",
    "\n",
    "Layer 3 captures complex patterns such as mesh patterns, texts etc.\n",
    "![](my_icons/Layer3.png \"Layer 3\")\n",
    "\n",
    "#### Layer 4:\n",
    "\n",
    "Layer 4 shows further variations and is able to classify objects in the picture such as dog faces, bird legs etc.\n",
    "![](my_icons/Layer4.png \"Layer 4\")\n",
    "\n",
    "#### Layer 5:\n",
    "\n",
    "Layer 5 shows complete objects such as keyboards, dogs etc.\n",
    "![](my_icons/Layer5.png \"Layer 5\")\n",
    "\n",
    "### Key Insights\n",
    "\n",
    "*  The lower layers of the model converge within few epochs and upper layers fully converge only after a considerable number of epochs. This suggests it might be beneficial to train different layers at different learning rates.\n",
    "*  By systematically occluding different portions of the image with a grey square and monitoring the output of the classifier, it was observed that the model was able to localize the objects in the scene (explainabilty).\n",
    "* Overall depth of the model is important for obtaining good performance. Changing the size of the fully connected layers makes little difference to perfor- mance. However, increasing the size of the middle convolution layers  give a useful gain in performance. But in- creasing these, while also enlarging the fully connected layers results in overfitting.\n",
    "* Keeping intial layers trained on ImageNet fixed and training a new softmax classifier of appropriate size using training images from Caltech-256, Caltech-101, PASCAL VOC 2012 datasets resulted in faster training and better results. (Transfer Learning)"
   ]
  },
  {
   "cell_type": "markdown",
   "metadata": {},
   "source": [
    "> Note: All images belong to M. Zeiler and R. Fergus. Zeiler's image taken from [matthewzeiler.com](https://www.matthewzeiler.com/)."
   ]
  },
  {
   "cell_type": "markdown",
   "metadata": {},
   "source": [
    "<script type=\"text/javascript\" src=\"https://cdnjs.buymeacoffee.com/1.0.0/button.prod.min.js\" data-name=\"bmc-button\" data-slug=\"alephthoughts\" data-color=\"#FFDD00\" data-emoji=\"\"  data-font=\"Cookie\" data-text=\"Buy me a coffee\" data-outline-color=\"#000000\" data-font-color=\"#000000\" data-coffee-color=\"#ffffff\" ></script>"
   ]
  }
 ],
 "metadata": {
  "kernelspec": {
   "display_name": "Python 3 (ipykernel)",
   "language": "python",
   "name": "python3"
  },
  "language_info": {
   "codemirror_mode": {
    "name": "ipython",
    "version": 3
   },
   "file_extension": ".py",
   "mimetype": "text/x-python",
   "name": "python",
   "nbconvert_exporter": "python",
   "pygments_lexer": "ipython3",
   "version": "3.9.7"
  }
 },
 "nbformat": 4,
 "nbformat_minor": 2
}
